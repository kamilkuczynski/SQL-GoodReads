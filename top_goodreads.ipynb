{
 "cells": [
  {
   "cell_type": "code",
   "execution_count": 2,
   "id": "27a2f2c4-7046-43d4-a01e-789f501494aa",
   "metadata": {},
   "outputs": [
    {
     "name": "stdout",
     "output_type": "stream",
     "text": [
      "   index                            author bookformat  \\\n",
      "0      0              Laurence M. Hauptman  Hardcover   \n",
      "1      1  Charlotte Fiell,Emmanuelle Dirix  Paperback   \n",
      "2      2                     Andy Anderson  Paperback   \n",
      "3      3              Carlotta R. Anderson  Hardcover   \n",
      "4      4                     Jean Leveille       None   \n",
      "\n",
      "                                                desc  \\\n",
      "0  Reveals that several hundred thousand Indians ...   \n",
      "1  Fashion Sourcebook - 1920s is the first book i...   \n",
      "2  The seminal history and analysis of the Hungar...   \n",
      "3  \"All-American Anarchist\" chronicles the life a...   \n",
      "4  Aujourdâ€™hui, lâ€™oiseau nous invite Ã  sa ta...   \n",
      "\n",
      "                                               genre  \\\n",
      "0  History,Military History,Civil War,American Hi...   \n",
      "1          Couture,Fashion,Historical,Art,Nonfiction   \n",
      "2                                   Politics,History   \n",
      "3                                      Labor,History   \n",
      "4                                               None   \n",
      "\n",
      "                                                 img        isbn  \\\n",
      "0  https://i.gr-assets.com/images/S/compressed.ph...  002914180X   \n",
      "1  https://i.gr-assets.com/images/S/compressed.ph...  1906863482   \n",
      "2  https://i.gr-assets.com/images/S/compressed.ph...   948984147   \n",
      "3  https://i.gr-assets.com/images/S/compressed.ph...   814327079   \n",
      "4  https://i.gr-assets.com/images/S/compressed.ph...  2761920813   \n",
      "\n",
      "                                                link  pages  rating  reviews  \\\n",
      "0  https://goodreads.com/book/show/1001053.Betwee...      0    3.52        5   \n",
      "1  https://goodreads.com/book/show/10010552-fashi...    576    4.51        6   \n",
      "2  https://goodreads.com/book/show/1001077.Hungar...    124    4.15        2   \n",
      "3  https://goodreads.com/book/show/1001079.All_Am...    324    3.83        1   \n",
      "4  https://goodreads.com/book/show/10010880-les-o...    177    4.00        1   \n",
      "\n",
      "                                               title  totalratings  \n",
      "0  Between Two Fires: American Indians in the Civ...            33  \n",
      "1                           Fashion Sourcebook 1920s            41  \n",
      "2                                         Hungary 56            26  \n",
      "3  All-American Anarchist: Joseph A. Labadie and ...             6  \n",
      "4                              Les oiseaux gourmands             1  \n"
     ]
    }
   ],
   "source": [
    "import pandas as pd\n",
    "import sqlite3\n",
    "\n",
    "# Source of data: https://www.kaggle.com/datasets/mdhamani/goodreads-books-100k?select=GoodReads_100k_books.csv\n",
    "\n",
    "# Read the CSV file GoodReads_100k_books.csv and store the data in a pandas DataFrame called df.\n",
    "df = pd.read_csv('/GoodReads/GoodReads_101k_books.csv', on_bad_lines='skip')\n",
    "\n",
    "# Establish a connection to a SQLite database named database.db.\n",
    "conn = sqlite3.connect('database.db')\n",
    "\n",
    "# Save the contents of the df DataFrame to a table called books in the SQLite database using the to_sql() function\n",
    "df.to_sql('good_101k_books', conn)\n",
    "\n",
    "# Drop the isbn13 column from the table\n",
    "drop_isbn13 = 'ALTER TABLE good_101k_books DROP COLUMN isbn13;'\n",
    "conn.execute(drop_isbn13)\n",
    "\n",
    "# Select all columns from the table to check if the column has been dropped\n",
    "books = pd.read_sql('SELECT * FROM good_101k_books', conn)\n",
    "print(books.head())\n"
   ]
  },
  {
   "cell_type": "code",
   "execution_count": 6,
   "id": "8fde2a47-508f-4a3c-b690-6397804df859",
   "metadata": {},
   "outputs": [
    {
     "name": "stdout",
     "output_type": "stream",
     "text": [
      "     rows\n",
      "0  100000\n"
     ]
    }
   ],
   "source": [
    "books = pd.read_sql('SELECT count(author) as rows FROM good_101k_books', conn)\n",
    "print(books)"
   ]
  },
  {
   "cell_type": "code",
   "execution_count": 8,
   "id": "480a8047-74fe-439c-b643-91b06a7373a9",
   "metadata": {},
   "outputs": [
    {
     "name": "stdout",
     "output_type": "stream",
     "text": [
      "<bound method NDFrame.tail of        index                                             author bookformat  \\\n",
      "0          0                               Laurence M. Hauptman  Hardcover   \n",
      "1          1                   Charlotte Fiell,Emmanuelle Dirix  Paperback   \n",
      "2          2                                      Andy Anderson  Paperback   \n",
      "3          3                               Carlotta R. Anderson  Hardcover   \n",
      "4          4                                      Jean Leveille       None   \n",
      "...      ...                                                ...        ...   \n",
      "99995  99995                                         Simon Monk      ebook   \n",
      "99996  99996  Tracie L. Miller-Nobles,Brenda L. Mattison,Ell...  Hardcover   \n",
      "99997  99997                                     C. John Miller  Paperback   \n",
      "99998  99998                                      Albert Marrin  Hardcover   \n",
      "99999  99999                                      Marc E. Fitch      ebook   \n",
      "\n",
      "                                                    desc  \\\n",
      "0      Reveals that several hundred thousand Indians ...   \n",
      "1      Fashion Sourcebook - 1920s is the first book i...   \n",
      "2      The seminal history and analysis of the Hungar...   \n",
      "3      \"All-American Anarchist\" chronicles the life a...   \n",
      "4      Aujourdâ€™hui, lâ€™oiseau nous invite Ã  sa ta...   \n",
      "...                                                  ...   \n",
      "99995  Design custom printed circuit boards with EAGL...   \n",
      "99996  Redefining tradition in learning accounting. ,...   \n",
      "99997  In these warm reflections on his own growth as...   \n",
      "99998  John Brown is a man of many legacies, from her...   \n",
      "99999  Did you know that interest in UFO research inc...   \n",
      "\n",
      "                                                   genre  \\\n",
      "0      History,Military History,Civil War,American Hi...   \n",
      "1              Couture,Fashion,Historical,Art,Nonfiction   \n",
      "2                                       Politics,History   \n",
      "3                                          Labor,History   \n",
      "4                                                   None   \n",
      "...                                                  ...   \n",
      "99995                                               None   \n",
      "99996                                               None   \n",
      "99997  Christianity,Evangelism,Christian,Religion,The...   \n",
      "99998  Nonfiction,History,Biography,Military History,...   \n",
      "99999                      Fantasy,Paranormal,Nonfiction   \n",
      "\n",
      "                                                     img        isbn  \\\n",
      "0      https://i.gr-assets.com/images/S/compressed.ph...  002914180X   \n",
      "1      https://i.gr-assets.com/images/S/compressed.ph...  1906863482   \n",
      "2      https://i.gr-assets.com/images/S/compressed.ph...   948984147   \n",
      "3      https://i.gr-assets.com/images/S/compressed.ph...   814327079   \n",
      "4      https://i.gr-assets.com/images/S/compressed.ph...  2761920813   \n",
      "...                                                  ...         ...   \n",
      "99995  https://i.gr-assets.com/images/S/compressed.ph...    71819266   \n",
      "99996  https://i.gr-assets.com/images/S/compressed.ph...   133251241   \n",
      "99997  https://i.gr-assets.com/images/S/compressed.ph...   875523919   \n",
      "99998  https://i.gr-assets.com/images/S/compressed.ph...   307981533   \n",
      "99999  https://i.gr-assets.com/images/S/compressed.ph...   313382077   \n",
      "\n",
      "                                                    link  pages  rating  \\\n",
      "0      https://goodreads.com/book/show/1001053.Betwee...      0    3.52   \n",
      "1      https://goodreads.com/book/show/10010552-fashi...    576    4.51   \n",
      "2      https://goodreads.com/book/show/1001077.Hungar...    124    4.15   \n",
      "3      https://goodreads.com/book/show/1001079.All_Am...    324    3.83   \n",
      "4      https://goodreads.com/book/show/10010880-les-o...    177    4.00   \n",
      "...                                                  ...    ...     ...   \n",
      "99995  https://goodreads.com/book/show/17320181-make-...    304    4.07   \n",
      "99996  https://goodreads.com/book/show/17320260-horng...   1645    4.05   \n",
      "99997  https://goodreads.com/book/show/173203.A_Faith...    160    4.27   \n",
      "99998  https://goodreads.com/book/show/17320669-a-vol...    256    3.63   \n",
      "99999  https://goodreads.com/book/show/17320689-paran...    398    3.83   \n",
      "\n",
      "       reviews                                              title  \\\n",
      "0            5  Between Two Fires: American Indians in the Civ...   \n",
      "1            6                           Fashion Sourcebook 1920s   \n",
      "2            2                                         Hungary 56   \n",
      "3            1  All-American Anarchist: Joseph A. Labadie and ...   \n",
      "4            1                              Les oiseaux gourmands   \n",
      "...        ...                                                ...   \n",
      "99995        7  Make Your Own PCBs with Eagle: From Schematic ...   \n",
      "99996        1       Horngren's Financial & Managerial Accounting   \n",
      "99997       20  A Faith Worth Sharing: A Lifetime of Conversat...   \n",
      "99998       51  A Volcano Beneath the Snow: John Brown's War A...   \n",
      "99999        3  Paranormal Nation: Why America Needs Ghosts, U...   \n",
      "\n",
      "       totalratings  \n",
      "0                33  \n",
      "1                41  \n",
      "2                26  \n",
      "3                 6  \n",
      "4                 1  \n",
      "...             ...  \n",
      "99995            56  \n",
      "99996            38  \n",
      "99997           122  \n",
      "99998           156  \n",
      "99999            12  \n",
      "\n",
      "[100000 rows x 13 columns]>\n"
     ]
    }
   ],
   "source": [
    "books = pd.read_sql('SELECT * FROM good_101k_books', conn)\n",
    "print(books.tail)"
   ]
  },
  {
   "cell_type": "raw",
   "id": "71713585-3ef9-4d4d-a5c1-83aca17679b4",
   "metadata": {},
   "source": [
    "As we see we have about 10 000 rows.\n",
    "\n",
    "Let's see which books have the highest rating?"
   ]
  },
  {
   "cell_type": "code",
   "execution_count": 17,
   "id": "b9811462-93b2-44ec-9d3d-b5a02fc96c97",
   "metadata": {},
   "outputs": [
    {
     "name": "stdout",
     "output_type": "stream",
     "text": [
      "                                          author  \\\n",
      "0                          Nick Le Neve Walmsley   \n",
      "1              Leo Bagrow,Raleigh Ashlin Skelton   \n",
      "2  Renate Klein,Janice G. Raymond,Lynette Dumble   \n",
      "3                               Richard L. Kagan   \n",
      "4                               Horace A. Porter   \n",
      "\n",
      "                                                desc       genre  \\\n",
      "0  At the time of her construction in the late 19...        None   \n",
      "1  This illustrated work is intended to acquaint ...        None   \n",
      "2  AÂ classic text for health activists and femin...    Feminism   \n",
      "3  Setting aside the pastiche of bullfighters and...        None   \n",
      "4  The first book to reassess Ralph Ellison after...  Music,Jazz   \n",
      "\n",
      "                                                link  pages  rating  \\\n",
      "0      https://goodreads.com/book/show/10011431-r101    160     5.0   \n",
      "1  https://goodreads.com/book/show/10013570-histo...    312     5.0   \n",
      "2     https://goodreads.com/book/show/1001463.Ru_486      0     5.0   \n",
      "3  https://goodreads.com/book/show/1001481.Spain_...    304     5.0   \n",
      "4  https://goodreads.com/book/show/100182.Jazz_Co...    184     5.0   \n",
      "\n",
      "   totalratings                                              title  \n",
      "0             3                          R101: A Pictorial History  \n",
      "1             1    History of Cartography: Enlarged Second Edition  \n",
      "2             2          Ru 486: Misconceptions, Myths, and Morals  \n",
      "3             1  Spain in America: The Origins of Hispanism in ...  \n",
      "4             1             Jazz Country: Ralph Ellison in America  \n"
     ]
    }
   ],
   "source": [
    "books = pd.read_sql('SELECT author, desc, genre, link, pages, rating, totalratings, title FROM good_101k_books ORDER BY rating DESC LIMIT 5', conn)\n",
    "print(books)"
   ]
  },
  {
   "cell_type": "raw",
   "id": "ee2e11a0-dd14-4d57-93a2-c90baa3b3c9a",
   "metadata": {},
   "source": [
    "As we can see from the top of the query, the books with a rating of 5.0 are listed. However, it would be more accurate to consider books with a rating of 5.0 and a high number of total ratings."
   ]
  },
  {
   "cell_type": "code",
   "execution_count": 18,
   "id": "249ce49a-1693-476a-9385-f4e4e29b7787",
   "metadata": {},
   "outputs": [
    {
     "name": "stdout",
     "output_type": "stream",
     "text": [
      "                                  author  \\\n",
      "0  Stephen C. Meyer,Richard M. Sternberg   \n",
      "1                       Mark Constantine   \n",
      "2                      Stewart T. Coffin   \n",
      "3                                  Plato   \n",
      "4                        Morris N. Eagle   \n",
      "\n",
      "                                                desc  \\\n",
      "0  In 2003, Meyer submitted an article titled \"Th...   \n",
      "1  The Sound Approach to Birding Learn the facts ...   \n",
      "2  For many years Stewart Coffin has been inventi...   \n",
      "3  Plato is one of the key ancient authors studie...   \n",
      "4  The landscape of psychoanalysis has changed, a...   \n",
      "\n",
      "                                  genre  \\\n",
      "0                               Science   \n",
      "1               Animals,Birds,Reference   \n",
      "2                   Mathematics,Puzzles   \n",
      "3                            Philosophy   \n",
      "4  Psychology,Psychoanalysis,Psychology   \n",
      "\n",
      "                                                link  pages  rating  \\\n",
      "0  https://goodreads.com/book/show/10282015-the-o...      0     5.0   \n",
      "1  https://goodreads.com/book/show/1100741.The_So...      0     5.0   \n",
      "2  https://goodreads.com/book/show/1416891.The_Pu...    208     5.0   \n",
      "3  https://goodreads.com/book/show/1681619.Clitop...    560     5.0   \n",
      "4  https://goodreads.com/book/show/10633507-from-...    346     5.0   \n",
      "\n",
      "   totalratings                                              title  \n",
      "0            15  The Origin of Biological Information and the H...  \n",
      "1            13  The Sound Approach to Birding: A Guide to Unde...  \n",
      "2            12  The Puzzling World of Polyhedral Dissections: ...  \n",
      "3            10             Clitopho, Respublica, Timaeus, Critias  \n",
      "4             9  From Classical to Contemporary Psychoanalysis:...  \n"
     ]
    }
   ],
   "source": [
    "books = pd.read_sql('SELECT author, desc, genre, link, pages, rating, totalratings, title FROM good_101k_books ORDER BY rating DESC, totalratings DESC LIMIT 5', conn)\n",
    "print(books)"
   ]
  },
  {
   "cell_type": "raw",
   "id": "d719c75a-b3cc-48c6-abc3-2ad9b2a01078",
   "metadata": {},
   "source": [
    "The data is rather unreliable because 15 total ratings are too small to draw a conclusion about whether the book is really good."
   ]
  },
  {
   "cell_type": "markdown",
   "id": "1d9f8803-cce5-4280-9191-e15ac8f27f1d",
   "metadata": {},
   "source": [
    "Let's check for practice the highest ratings books from economy and history"
   ]
  },
  {
   "cell_type": "code",
   "execution_count": 32,
   "id": "e849717b-1e53-4795-b114-b10dd115850d",
   "metadata": {},
   "outputs": [
    {
     "name": "stdout",
     "output_type": "stream",
     "text": [
      "                                                   genre\n",
      "0      History,Military History,Civil War,American Hi...\n",
      "1                                       Politics,History\n",
      "2                                          Labor,History\n",
      "3                                     History,Nonfiction\n",
      "4      History,Couture,Fashion,Nonfiction,Historical,...\n",
      "...                                                  ...\n",
      "12904  History,Nonfiction,Psychology,World War II,Hol...\n",
      "12905  Art,Art,Art History,Cultural,Italy,History,Non...\n",
      "12906  History,Church,Church History,Religion,Theolog...\n",
      "12907  Nonfiction,Environment,Nature,Travel,Science,A...\n",
      "12908  Nonfiction,History,Biography,Military History,...\n",
      "\n",
      "[12909 rows x 1 columns]\n"
     ]
    }
   ],
   "source": [
    "# First we check tha name of all genre which we are interested.\n",
    "\n",
    "# This SQL query retrieves all distinct rows from the 'good_101k_books' table that contain the words 'economy' or 'history' in their genre column.\n",
    "unique_genres = pd.read_sql(\"SELECT DISTINCT genre FROM good_101k_books WHERE genre LIKE '%economy%' OR genre LIKE '%history%';\", conn)\n",
    "\n",
    "print(unique_genres)\n"
   ]
  },
  {
   "cell_type": "code",
   "execution_count": 37,
   "id": "ea40bb47-a61c-4751-86e7-756d4dff3fef",
   "metadata": {},
   "outputs": [
    {
     "name": "stdout",
     "output_type": "stream",
     "text": [
      "                                                  genre\n",
      "0     Psychology,Nonfiction,Economics,Science,Philos...\n",
      "1     History,Cultural,Brazil,Nonfiction,Biography,P...\n",
      "2     Economics,Economics,Finance,Business,Nonfictio...\n",
      "3     Economics,Finance,Economics,History,Finance,Pe...\n",
      "4            Economics,Finance,Finance,Personal Finance\n",
      "...                                                 ...\n",
      "1336       Business,Nonfiction,Economics,Social Science\n",
      "1337  Business,Nonfiction,Economics,History,Economic...\n",
      "1338  Nonfiction,Christian,Currency,Money,Religion,F...\n",
      "1339  Economics,History,Nonfiction,Economics,Finance...\n",
      "1340  Cultural,China,Economics,Nonfiction,Politics,B...\n",
      "\n",
      "[1341 rows x 1 columns]\n"
     ]
    }
   ],
   "source": [
    "# Let's check the book categories related only to the economy.\n",
    "unique_genres = pd.read_sql(\"SELECT DISTINCT genre FROM good_101k_books  WHERE genre LIKE '%economy%' or genre like '%econom%' \", conn)\n",
    "\n",
    "print(unique_genres)\n"
   ]
  },
  {
   "cell_type": "raw",
   "id": "1532a879-b35f-4727-b2e4-6fbb57c5776a",
   "metadata": {},
   "source": [
    "Now that we know exactly which categories interest us, we can start searching for interesting books."
   ]
  },
  {
   "cell_type": "code",
   "execution_count": 46,
   "id": "81f4ff57-d094-4fce-8920-ea2efd3c2f64",
   "metadata": {},
   "outputs": [
    {
     "name": "stdout",
     "output_type": "stream",
     "text": [
      "                                              author  \\\n",
      "0                                 Nikolai Kostomarov   \n",
      "1                       Larry A. Greene,Anke Ortlepp   \n",
      "2  Donald A. Beattie,Rodney M. Cole,Charles G. Waugh   \n",
      "3                                   William H. Burke   \n",
      "4                  Alan M. Levine,Daniel S. Malachuk   \n",
      "\n",
      "                                                desc      genre  \\\n",
      "0  \"Ð ÑƒÑÑÐºÐ°Ñ Ð¸ÑÑ‚Ð¾Ñ€Ð¸Ñ Ð² Ð¶Ð¸Ð·Ð½ÐµÐ¾...    History   \n",
      "1  Germans and African Americans,, unlike other w...    History   \n",
      "2                                               None    History   \n",
      "3  Irish Miners demanding fair wages and mine saf...    History   \n",
      "4  From before the Civil War until his death in 1...  Biography   \n",
      "\n",
      "                                                link  pages  rating  \\\n",
      "0           https://goodreads.com/book/show/14061994    704     5.0   \n",
      "1  https://goodreads.com/book/show/10284203-germa...    304     5.0   \n",
      "2  https://goodreads.com/book/show/1045619.A_Dist...    288     5.0   \n",
      "3  https://goodreads.com/book/show/1211769.Anthra...    242     5.0   \n",
      "4  https://goodreads.com/book/show/13505890-a-pol...    487     5.0   \n",
      "\n",
      "   totalratings                                              title  \n",
      "0             9  Ð ÑƒÑÑÐºÐ°Ñ Ð¸ÑÑ‚Ð¾Ñ€Ð¸Ñ Ð² Ð¶Ð¸Ð·Ð½ÐµÐ¾Ð...  \n",
      "1             2  Germans and African Americans: Two Centuries o...  \n",
      "2             2  A Distant War Comes Home: Maine in the Civil W...  \n",
      "3             2  Anthracite Lads: A True Story of the Fabled Mo...  \n",
      "4             2       A Political Companion to Ralph Waldo Emerson  \n"
     ]
    }
   ],
   "source": [
    "# Read the top 5 books from the good_101k_books table\n",
    "# where the genre is Politics, History, Biography, or Economics, Finance\n",
    "# and sort them by rating and total ratings in descending order.\n",
    "books = pd.read_sql(\"SELECT author, desc, genre, link, pages, rating, totalratings, title FROM good_101k_books WHERE genre IN ('Politics', 'History', 'Biography', 'Economics', 'Finance') ORDER BY rating DESC, totalratings DESC LIMIT 5\", conn)\n",
    "print(books)"
   ]
  },
  {
   "cell_type": "markdown",
   "id": "33dacbda-1ae2-4e85-bd49-de34c97c142a",
   "metadata": {},
   "source": [
    "Please note that the query is case-sensitive. If we change 'History' to 'history', our results will be different."
   ]
  },
  {
   "cell_type": "code",
   "execution_count": 45,
   "id": "b88adcce-ce0c-423a-852f-214c74c1febc",
   "metadata": {},
   "outputs": [
    {
     "name": "stdout",
     "output_type": "stream",
     "text": [
      "                              author  \\\n",
      "0  Alan M. Levine,Daniel S. Malachuk   \n",
      "1                    Herbert Lockyer   \n",
      "2                        Tony Brooks   \n",
      "3                    Klaus Wagenbach   \n",
      "4                   Dorothy Shepherd   \n",
      "\n",
      "                                                desc      genre  \\\n",
      "0  From before the Civil War until his death in 1...  Biography   \n",
      "1                   Autobiography of Herbert Lockyer  Biography   \n",
      "2  It has taken 15 years of relentless persuasion...  Biography   \n",
      "3  More than eight decades after his death, the w...  Biography   \n",
      "4  Dr Dorothy Shepherd had wide experience both i...  Biography   \n",
      "\n",
      "                                                link  pages  rating  \\\n",
      "0  https://goodreads.com/book/show/13505890-a-pol...    487    5.00   \n",
      "1  https://goodreads.com/book/show/15726961-the-n...    104    5.00   \n",
      "2  https://goodreads.com/book/show/13435667-tony-...    276    4.78   \n",
      "3     https://goodreads.com/book/show/10905855-kafka    120    4.75   \n",
      "4  https://goodreads.com/book/show/15419696-the-m...      0    4.67   \n",
      "\n",
      "   totalratings                                              title  \n",
      "0             2       A Political Companion to Ralph Waldo Emerson  \n",
      "1             1  The Nutcracker Boy: An Autobiography by Herber...  \n",
      "2             9  Tony Brooks: Poetry in Motion: Autobiography o...  \n",
      "3             8                            Kafka: A Life in Prague  \n",
      "4             3                      The Magic of the Minimum Dose  \n"
     ]
    }
   ],
   "source": [
    "books = pd.read_sql(\"SELECT author, desc, genre, link, pages, rating, totalratings, title FROM good_101k_books WHERE genre IN ('Politics', 'history', 'Biography', 'Economics') ORDER BY rating DESC, totalratings DESC LIMIT 5\", conn)\n",
    "print(books)"
   ]
  },
  {
   "cell_type": "raw",
   "id": "814f1f7d-c00b-4cec-bdd7-0e507c7c2b29",
   "metadata": {},
   "source": [
    "In this mini-project, we used WHERE, ORDER, and LIMIT to select the best book to read. Since the amount of data was limited, it may be better to search for additional data sources in order to find highly-rated books to read."
   ]
  }
 ],
 "metadata": {
  "kernelspec": {
   "display_name": "Python 3 (ipykernel)",
   "language": "python",
   "name": "python3"
  },
  "language_info": {
   "codemirror_mode": {
    "name": "ipython",
    "version": 3
   },
   "file_extension": ".py",
   "mimetype": "text/x-python",
   "name": "python",
   "nbconvert_exporter": "python",
   "pygments_lexer": "ipython3",
   "version": "3.9.13"
  }
 },
 "nbformat": 4,
 "nbformat_minor": 5
}
